{
  "cells": [
    {
      "cell_type": "markdown",
      "metadata": {
        "id": "H9wADwK78DCz"
      },
      "source": [
        "# Proyek Analisis Data: Bike Sharing\n",
        "- **Nama:** Syafiq Ziyadul Arifin\n",
        "- **Email:** szarifin20041@gmail.com\n",
        "- **ID Dicoding:** safiq53"
      ]
    },
    {
      "cell_type": "markdown",
      "metadata": {
        "id": "eE0raob58DC0"
      },
      "source": [
        "## Menentukan Pertanyaan Bisnis"
      ]
    },
    {
      "cell_type": "markdown",
      "metadata": {
        "id": "GmQeQ5YF8DC0"
      },
      "source": [
        "- Bagaimana kecenderungan users untuk rent bike sharing pada suatu weather tertentu?\n",
        "- Bagaimana pengaruh season terhadap jumlah rent bike sharing, baik yang casual users, registered users, maupun total keduanya?"
      ]
    },
    {
      "cell_type": "markdown",
      "metadata": {
        "id": "H-z4QGlO8DC1"
      },
      "source": [
        "## Import Semua Packages/Library yang Digunakan"
      ]
    },
    {
      "cell_type": "markdown",
      "metadata": {
        "id": "BxDah7qqV9hN"
      },
      "source": [
        "Import semua packages/library yang dibutuhkan/digunakan"
      ]
    },
    {
      "cell_type": "code",
      "execution_count": null,
      "metadata": {
        "id": "FVYwaObI8DC1"
      },
      "outputs": [
        {
          "ename": "",
          "evalue": "",
          "output_type": "error",
          "traceback": [
            "\u001b[1;31mThe kernel failed to start as '_psutil_linux' could not be imported from 'most likely due to a circular import'.\n",
            "\u001b[1;31mClick <a href='https://aka.ms/kernelFailuresModuleImportErrFromFile'>here</a> for more info."
          ]
        }
      ],
      "source": [
        "import matplotlib.pyplot as plt\n",
        "import numpy as np\n",
        "import pandas as pd\n",
        "import seaborn as sns"
      ]
    },
    {
      "cell_type": "markdown",
      "metadata": {
        "id": "h_Sh51Xy8DC1"
      },
      "source": [
        "## Data Wrangling"
      ]
    },
    {
      "cell_type": "markdown",
      "metadata": {
        "id": "sXU2GBYu8DC1"
      },
      "source": [
        "### Gathering Data"
      ]
    },
    {
      "cell_type": "markdown",
      "metadata": {
        "id": "ts6Md2uwWE3L"
      },
      "source": [
        "Import data"
      ]
    },
    {
      "cell_type": "code",
      "execution_count": null,
      "metadata": {
        "id": "zjCBk1BI8DC1"
      },
      "outputs": [
        {
          "ename": "",
          "evalue": "",
          "output_type": "error",
          "traceback": [
            "\u001b[1;31mThe kernel failed to start as '_psutil_linux' could not be imported from 'most likely due to a circular import'.\n",
            "\u001b[1;31mClick <a href='https://aka.ms/kernelFailuresModuleImportErrFromFile'>here</a> for more info."
          ]
        }
      ],
      "source": [
        "day_df = pd.read_csv('data/day.csv')\n",
        "hour_df = pd.read_csv('data/hour.csv')"
      ]
    },
    {
      "cell_type": "markdown",
      "metadata": {
        "id": "t7z0NtfLWGH4"
      },
      "source": [
        "Tampilkan 5 row pertama"
      ]
    },
    {
      "cell_type": "code",
      "execution_count": null,
      "metadata": {
        "colab": {
          "base_uri": "https://localhost:8080/",
          "height": 313
        },
        "id": "_Yx9mzYwiOJ3",
        "outputId": "67b5297f-88e9-4ccd-e70b-5eac2de98dd7"
      },
      "outputs": [
        {
          "ename": "",
          "evalue": "",
          "output_type": "error",
          "traceback": [
            "\u001b[1;31mThe kernel failed to start as '_psutil_linux' could not be imported from 'most likely due to a circular import'.\n",
            "\u001b[1;31mClick <a href='https://aka.ms/kernelFailuresModuleImportErrFromFile'>here</a> for more info."
          ]
        }
      ],
      "source": [
        "day_df.head()"
      ]
    },
    {
      "cell_type": "code",
      "execution_count": null,
      "metadata": {
        "colab": {
          "base_uri": "https://localhost:8080/",
          "height": 313
        },
        "id": "yQa8ix0BiPqS",
        "outputId": "ac4aec1e-6de1-4eb4-d5c9-3f7abe971c4c"
      },
      "outputs": [
        {
          "ename": "",
          "evalue": "",
          "output_type": "error",
          "traceback": [
            "\u001b[1;31mThe kernel failed to start as '_psutil_linux' could not be imported from 'most likely due to a circular import'.\n",
            "\u001b[1;31mClick <a href='https://aka.ms/kernelFailuresModuleImportErrFromFile'>here</a> for more info."
          ]
        }
      ],
      "source": [
        "hour_df.head()"
      ]
    },
    {
      "cell_type": "markdown",
      "metadata": {
        "id": "FHSiqaZp8DC1"
      },
      "source": [
        "### Assessing Data"
      ]
    },
    {
      "cell_type": "markdown",
      "metadata": {
        "id": "5gfZi0QXXGqq"
      },
      "source": [
        "Mencari apakah ada data yang kosong"
      ]
    },
    {
      "cell_type": "code",
      "execution_count": null,
      "metadata": {
        "colab": {
          "base_uri": "https://localhost:8080/"
        },
        "id": "ax-3tEjc9Cj1",
        "outputId": "df4b10ca-25a8-4f41-b695-a266dff08f54"
      },
      "outputs": [
        {
          "ename": "",
          "evalue": "",
          "output_type": "error",
          "traceback": [
            "\u001b[1;31mThe kernel failed to start as '_psutil_linux' could not be imported from 'most likely due to a circular import'.\n",
            "\u001b[1;31mClick <a href='https://aka.ms/kernelFailuresModuleImportErrFromFile'>here</a> for more info."
          ]
        }
      ],
      "source": [
        "day_df.isnull().sum()"
      ]
    },
    {
      "cell_type": "code",
      "execution_count": null,
      "metadata": {
        "colab": {
          "base_uri": "https://localhost:8080/"
        },
        "id": "loyVjkIiiibg",
        "outputId": "edf90789-a50e-4f2e-db69-9122d7473c83"
      },
      "outputs": [
        {
          "ename": "",
          "evalue": "",
          "output_type": "error",
          "traceback": [
            "\u001b[1;31mThe kernel failed to start as '_psutil_linux' could not be imported from 'most likely due to a circular import'.\n",
            "\u001b[1;31mClick <a href='https://aka.ms/kernelFailuresModuleImportErrFromFile'>here</a> for more info."
          ]
        }
      ],
      "source": [
        "hour_df.isnull().sum()"
      ]
    },
    {
      "cell_type": "markdown",
      "metadata": {
        "id": "GZtH6UCUWTu9"
      },
      "source": [
        "Mencari apakah ada data yang duplikat"
      ]
    },
    {
      "cell_type": "code",
      "execution_count": null,
      "metadata": {
        "colab": {
          "base_uri": "https://localhost:8080/"
        },
        "id": "0RnhSEckifdB",
        "outputId": "262f00b5-3416-4fce-b09f-db6b671e025f"
      },
      "outputs": [
        {
          "ename": "",
          "evalue": "",
          "output_type": "error",
          "traceback": [
            "\u001b[1;31mThe kernel failed to start as '_psutil_linux' could not be imported from 'most likely due to a circular import'.\n",
            "\u001b[1;31mClick <a href='https://aka.ms/kernelFailuresModuleImportErrFromFile'>here</a> for more info."
          ]
        }
      ],
      "source": [
        "day_df.duplicated().sum()"
      ]
    },
    {
      "cell_type": "code",
      "execution_count": null,
      "metadata": {
        "colab": {
          "base_uri": "https://localhost:8080/"
        },
        "id": "AdlHOfVIimlL",
        "outputId": "deda0a41-bbd8-4100-96e2-ba2a869865f4"
      },
      "outputs": [
        {
          "ename": "",
          "evalue": "",
          "output_type": "error",
          "traceback": [
            "\u001b[1;31mThe kernel failed to start as '_psutil_linux' could not be imported from 'most likely due to a circular import'.\n",
            "\u001b[1;31mClick <a href='https://aka.ms/kernelFailuresModuleImportErrFromFile'>here</a> for more info."
          ]
        }
      ],
      "source": [
        "hour_df.duplicated().sum()"
      ]
    },
    {
      "cell_type": "markdown",
      "metadata": {
        "id": "U0aViXblWWW-"
      },
      "source": [
        "Mendapatkan data outlier untuk setiap kolom"
      ]
    },
    {
      "cell_type": "code",
      "execution_count": null,
      "metadata": {
        "colab": {
          "base_uri": "https://localhost:8080/"
        },
        "id": "jVnYpprE9Evz",
        "outputId": "a6da8297-a71e-4cb7-8a07-3cc2d06c393f"
      },
      "outputs": [
        {
          "ename": "",
          "evalue": "",
          "output_type": "error",
          "traceback": [
            "\u001b[1;31mThe kernel failed to start as '_psutil_linux' could not be imported from 'most likely due to a circular import'.\n",
            "\u001b[1;31mClick <a href='https://aka.ms/kernelFailuresModuleImportErrFromFile'>here</a> for more info."
          ]
        }
      ],
      "source": [
        "# Select numeric columns from the DataFrame\n",
        "day_numeric_columns = day_df.select_dtypes(include=np.number).columns\n",
        "day_numeric_df = day_df[day_numeric_columns]\n",
        "\n",
        "# Dictionary to store outliers for each numeric column\n",
        "day_outliers_dict = {}\n",
        "\n",
        "# Iterate over each numeric column to identify outliers\n",
        "for column in day_numeric_columns:\n",
        "    # Calculate the first and third quartiles\n",
        "    q25, q75 = np.percentile(day_df[column], 25), np.percentile(day_df[column], 75)\n",
        "\n",
        "    # Calculate the interquartile range (IQR)\n",
        "    iqr = q75 - q25\n",
        "\n",
        "    # Define the cutoff values for outliers\n",
        "    cut_off = iqr * 1.5\n",
        "    day_minimum, day_maximum = q25 - cut_off, q75 + cut_off\n",
        "\n",
        "    # Identify outliers for the current column\n",
        "    day_outliers = day_df[(day_df[column] < day_minimum) | (day_df[column] > day_maximum)][column]\n",
        "\n",
        "    # Store outliers in the dictionary\n",
        "    day_outliers_dict[column] = day_outliers\n",
        "\n",
        "# Print the identified outliers for each column\n",
        "for column, outliers_series in day_outliers_dict.items():\n",
        "    if not outliers_series.empty:\n",
        "        print(outliers_series)\n",
        "        print(\"\\n\")"
      ]
    },
    {
      "cell_type": "code",
      "execution_count": null,
      "metadata": {
        "colab": {
          "base_uri": "https://localhost:8080/"
        },
        "id": "fCmtXkI-jBsy",
        "outputId": "ee89cbdb-924d-46c3-8388-61a796f2ea8b"
      },
      "outputs": [
        {
          "ename": "",
          "evalue": "",
          "output_type": "error",
          "traceback": [
            "\u001b[1;31mThe kernel failed to start as '_psutil_linux' could not be imported from 'most likely due to a circular import'.\n",
            "\u001b[1;31mClick <a href='https://aka.ms/kernelFailuresModuleImportErrFromFile'>here</a> for more info."
          ]
        }
      ],
      "source": [
        "hour_numeric_columns = hour_df.select_dtypes(include=np.number).columns\n",
        "hour_numeric_df = hour_df[hour_numeric_columns]\n",
        "\n",
        "hour_outliers_dict = {}\n",
        "\n",
        "for column in hour_numeric_columns:\n",
        "    q25, q75 = np.percentile(hour_df[column], 25), np.percentile(hour_df[column], 75)\n",
        "    iqr = q75 - q25\n",
        "    cut_off = iqr * 1.5\n",
        "    hour_minimum, hour_maximum = q25 - cut_off, q75 + cut_off\n",
        "\n",
        "    hour_outliers = hour_df[(hour_df[column] < hour_minimum) | (hour_df[column] > hour_maximum)][column]\n",
        "    hour_outliers_dict[column] = hour_outliers\n",
        "\n",
        "for column, outliers_series in hour_outliers_dict.items():\n",
        "    if not outliers_series.empty:\n",
        "        print(outliers_series)\n",
        "        print(\"\\n\")"
      ]
    },
    {
      "cell_type": "markdown",
      "metadata": {
        "id": "EhN5R4hr8DC1"
      },
      "source": [
        "### Cleaning Data"
      ]
    },
    {
      "cell_type": "markdown",
      "metadata": {
        "id": "X3y0OaFVW2sD"
      },
      "source": [
        "Menghapus data outlier untuk setiap kolom"
      ]
    },
    {
      "cell_type": "code",
      "execution_count": null,
      "metadata": {
        "id": "JHr1DJajGjhN"
      },
      "outputs": [
        {
          "ename": "",
          "evalue": "",
          "output_type": "error",
          "traceback": [
            "\u001b[1;31mThe kernel failed to start as '_psutil_linux' could not be imported from 'most likely due to a circular import'.\n",
            "\u001b[1;31mClick <a href='https://aka.ms/kernelFailuresModuleImportErrFromFile'>here</a> for more info."
          ]
        }
      ],
      "source": [
        "# Create a copy of the original DataFrame for filtering outliers\n",
        "day_df_filtered = day_df.copy()\n",
        "\n",
        "# Iterate over each column and its corresponding outliers\n",
        "for column, outliers_series in day_outliers_dict.items():\n",
        "    # Check if the column has outliers\n",
        "    if not outliers_series.empty:\n",
        "        # Get the indices of the outliers\n",
        "        outliers_index = outliers_series.index\n",
        "\n",
        "        # Identify duplicated indices among outliers\n",
        "        duplicates_mask = outliers_index.duplicated(keep='first')\n",
        "\n",
        "        # Retain only the unique indices (keep the first occurrence)\n",
        "        unique_outliers_index = outliers_index[~duplicates_mask]\n",
        "\n",
        "        # Drop rows with unique outlier indices from the filtered DataFrame\n",
        "        day_df_filtered = day_df_filtered.drop(index=unique_outliers_index, errors='ignore')\n",
        "\n",
        "# The resulting day_df_filtered will have outliers removed based on the specified logic"
      ]
    },
    {
      "cell_type": "code",
      "execution_count": null,
      "metadata": {
        "id": "KVpZ9NMUMsvd"
      },
      "outputs": [
        {
          "ename": "",
          "evalue": "",
          "output_type": "error",
          "traceback": [
            "\u001b[1;31mThe kernel failed to start as '_psutil_linux' could not be imported from 'most likely due to a circular import'.\n",
            "\u001b[1;31mClick <a href='https://aka.ms/kernelFailuresModuleImportErrFromFile'>here</a> for more info."
          ]
        }
      ],
      "source": [
        "hour_df_filtered = hour_df.copy()\n",
        "\n",
        "for column, outliers_series in hour_outliers_dict.items():\n",
        "    if not outliers_series.empty:\n",
        "        outliers_index = outliers_series.index\n",
        "        duplicates_mask = outliers_index.duplicated(keep='first')\n",
        "        unique_outliers_index = outliers_index[~duplicates_mask]\n",
        "        hour_df_filtered = hour_df_filtered.drop(index=unique_outliers_index, errors='ignore')"
      ]
    },
    {
      "cell_type": "markdown",
      "metadata": {
        "id": "gp-Y6wU38DC1"
      },
      "source": [
        "\\## Exploratory Data Analysis (EDA)"
      ]
    },
    {
      "cell_type": "markdown",
      "metadata": {
        "id": "foClKANlXPn3"
      },
      "source": [
        "Mendapatkan statistik umum dari setiap kolom"
      ]
    },
    {
      "cell_type": "code",
      "execution_count": null,
      "metadata": {
        "colab": {
          "base_uri": "https://localhost:8080/",
          "height": 320
        },
        "id": "STYOiOa6M2GO",
        "outputId": "e3e20cc4-f5b8-495f-d05f-dc02ed25e1c5"
      },
      "outputs": [
        {
          "ename": "",
          "evalue": "",
          "output_type": "error",
          "traceback": [
            "\u001b[1;31mThe kernel failed to start as '_psutil_linux' could not be imported from 'most likely due to a circular import'.\n",
            "\u001b[1;31mClick <a href='https://aka.ms/kernelFailuresModuleImportErrFromFile'>here</a> for more info."
          ]
        }
      ],
      "source": [
        "day_df.describe()"
      ]
    },
    {
      "cell_type": "code",
      "execution_count": null,
      "metadata": {
        "colab": {
          "base_uri": "https://localhost:8080/",
          "height": 320
        },
        "id": "cmiMcepFM4qf",
        "outputId": "a49d1169-e011-476d-8aae-e3461600c1e3"
      },
      "outputs": [
        {
          "ename": "",
          "evalue": "",
          "output_type": "error",
          "traceback": [
            "\u001b[1;31mThe kernel failed to start as '_psutil_linux' could not be imported from 'most likely due to a circular import'.\n",
            "\u001b[1;31mClick <a href='https://aka.ms/kernelFailuresModuleImportErrFromFile'>here</a> for more info."
          ]
        }
      ],
      "source": [
        "hour_df.describe()"
      ]
    },
    {
      "cell_type": "markdown",
      "metadata": {
        "id": "zsyZjqak8DC2"
      },
      "source": [
        "## Visualization & Explanatory Analysis"
      ]
    },
    {
      "cell_type": "markdown",
      "metadata": {
        "id": "HZxOiQ6n8DC2"
      },
      "source": [
        "### Pertanyaan 1:"
      ]
    },
    {
      "cell_type": "code",
      "execution_count": null,
      "metadata": {
        "colab": {
          "base_uri": "https://localhost:8080/",
          "height": 533
        },
        "id": "1swJUdAD8DC2",
        "outputId": "e719ae02-99b4-408e-ec6a-f3b342a1ac86"
      },
      "outputs": [
        {
          "ename": "",
          "evalue": "",
          "output_type": "error",
          "traceback": [
            "\u001b[1;31mThe kernel failed to start as '_psutil_linux' could not be imported from 'most likely due to a circular import'.\n",
            "\u001b[1;31mClick <a href='https://aka.ms/kernelFailuresModuleImportErrFromFile'>here</a> for more info."
          ]
        }
      ],
      "source": [
        "# Define your custom palette\n",
        "custom_palette = sns.color_palette(\"pastel\", n_colors=3)\n",
        "\n",
        "# Set the style and context for the plot\n",
        "sns.set(style=\"whitegrid\")\n",
        "plt.figure(figsize=(10, 6))\n",
        "\n",
        "# Visualize the number of bike rentals for each weather condition\n",
        "ax = sns.barplot(x='weathersit', y='cnt', data=day_df_filtered, estimator=sum, errorbar=None, palette=custom_palette, dodge=False, hue='weathersit', legend=False)\n",
        "\n",
        "# Add title and labels\n",
        "plt.title('Jumlah Penyewaan Sepeda berdasarkan Kondisi Cuaca', fontsize=16)\n",
        "plt.xlabel('Kondisi Cuaca', fontsize=14)\n",
        "plt.ylabel('Jumlah Penyewaan Sepeda', fontsize=14)\n",
        "\n",
        "# Add value annotations on top of the bars\n",
        "for p in ax.patches:\n",
        "    ax.annotate(f'{p.get_height():.0f}', (p.get_x() + p.get_width() / 2., p.get_height()), ha='center', va='baseline', fontsize=12, color='black')\n",
        "\n",
        "# Show the plot\n",
        "plt.show()\n",
        "\n",
        "day_df_filtered[['weathersit', 'cnt']].to_csv('question_1.csv', index=False)"
      ]
    },
    {
      "cell_type": "markdown",
      "metadata": {
        "id": "6MZPq6wkS488"
      },
      "source": [
        "Berdasarkan grafik di atas, terlihat bahwa jumlah penyewaan sepeda mencapai puncak tertingginya ketika kondisi cuaca adalah Clear, Few clouds, atau Partly cloudy. Sebaliknya, jumlah penyewaan sepeda mencapai titik terendah, dengan nilai 0, saat kondisi cuaca adalah Heavy Rain + Ice Pallets + Thunderstorm + Mist, Snow + Fog. Kesimpulan ini dapat diambil dari perbandingan tinggi rendahnya batang-batang pada grafik untuk setiap kondisi cuaca yang ditampilkan."
      ]
    },
    {
      "cell_type": "markdown",
      "metadata": {
        "id": "DgHI7CiU8DC2"
      },
      "source": [
        "### Pertanyaan 2:"
      ]
    },
    {
      "cell_type": "code",
      "execution_count": null,
      "metadata": {
        "colab": {
          "base_uri": "https://localhost:8080/",
          "height": 471
        },
        "id": "Go0lCsvO8DC2",
        "outputId": "35d3b5fa-ef1a-49fe-de13-3f8219e296f5"
      },
      "outputs": [
        {
          "ename": "",
          "evalue": "",
          "output_type": "error",
          "traceback": [
            "\u001b[1;31mThe kernel failed to start as '_psutil_linux' could not be imported from 'most likely due to a circular import'.\n",
            "\u001b[1;31mClick <a href='https://aka.ms/kernelFailuresModuleImportErrFromFile'>here</a> for more info."
          ]
        }
      ],
      "source": [
        "# Set style\n",
        "sns.set(style=\"whitegrid\")\n",
        "\n",
        "# Average for each season\n",
        "seasonal_analysis = day_df_filtered.groupby('season')[['casual', 'registered', 'cnt']].mean()\n",
        "\n",
        "# Visualization\n",
        "plt.figure(figsize=(14, 8))\n",
        "\n",
        "# Subplot 1\n",
        "plt.subplot(2, 2, 1)\n",
        "sns.barplot(x=seasonal_analysis.index, y=seasonal_analysis['casual'], color='skyblue')\n",
        "plt.title('Jumlah Casual Users per Musim')\n",
        "plt.xlabel('Musim')\n",
        "plt.ylabel('Jumlah Casual Users')\n",
        "plt.grid(axis='y', linestyle='--', alpha=0.7)\n",
        "\n",
        "# Subplot 2\n",
        "plt.subplot(2, 2, 2)\n",
        "sns.barplot(x=seasonal_analysis.index, y=seasonal_analysis['registered'], color='lightgreen')\n",
        "plt.title('Jumlah Registered Users per Musim')\n",
        "plt.xlabel('Musim')\n",
        "plt.ylabel('Jumlah Registered Users')\n",
        "plt.grid(axis='y', linestyle='--', alpha=0.7)\n",
        "\n",
        "# Subplot 3\n",
        "plt.subplot(2, 2, 3)\n",
        "sns.barplot(x=seasonal_analysis.index, y=seasonal_analysis['cnt'], color='salmon')\n",
        "plt.title('Jumlah Total Users per Musim')\n",
        "plt.xlabel('Musim')\n",
        "plt.ylabel('Jumlah Total Users')\n",
        "plt.grid(axis='y', linestyle='--', alpha=0.7)\n",
        "\n",
        "# Adjust layout for better spacing\n",
        "plt.tight_layout()\n",
        "\n",
        "# Show the plot\n",
        "plt.show()"
      ]
    },
    {
      "cell_type": "markdown",
      "metadata": {
        "id": "tT7vUEAZUpGn"
      },
      "source": [
        "Dari grafik tersebut terlihat bahwa jumlah perental sepeda mencapai puncak tertinggi pada musim Fall, diikuti oleh musim Summer, Winter, dan Spring."
      ]
    },
    {
      "cell_type": "markdown",
      "metadata": {
        "id": "_WeHlCeX8DC2"
      },
      "source": [
        "## Conclusion"
      ]
    },
    {
      "cell_type": "markdown",
      "metadata": {
        "id": "ZTcyR48Y8DC2"
      },
      "source": [
        "- Conclution pertanyaan 1\n",
        "\n",
        "  Berdasarkan perbandingan tinggi rendahnya bar-bar pada grafik, dapat disimpulkan bahwa jumlah penyewaan sepeda mencapai puncak tertingginya ketika kondisi cuaca adalah Clear, Few clouds, atau Partly cloudy. Sebaliknya, jumlah penyewaan sepeda mencapai titik terendah, dengan nilai 0, saat kondisi cuaca adalah Heavy Rain + Ice Pallets + Thunderstorm + Mist, Snow + Fog.\n",
        "\n",
        "  Hal ini menunjukkan bahwa kondisi cuaca yang bersih, cerah, dan sebagian berawan lebih mendukung aktivitas bersepeda, sedangkan kondisi cuaca yang buruk seperti hujan deras, petir, kabut, salju, dan kabut dapat menghambat atau bahkan mencegah orang untuk menyewa sepeda.\n",
        "\n",
        "  Dengan demikian, pemilik atau operator penyewaan sepeda dapat menggunakan informasi ini untuk mengoptimalkan layanan mereka, seperti meningkatkan promosi atau ketersediaan sepeda selama cuaca cerah dan mengurangi ekspektasi selama kondisi cuaca buruk.\n",
        "\n",
        "- Conclution pertanyaan 2\n",
        "\n",
        "  Berdasarkan grafik, dapat disimpulkan bahwa jumlah perental sepeda mencapai puncak tertinggi pada musim Fall, diikuti oleh musim Summer, Winter, dan Spring. Hal ini mungkin disebabkan oleh suhu rata-rata yang cukup nyaman pada musim gugur. Suhu yang tidak terlalu panas seperti musim panas atau terlalu dingin seperti musim dingin membuat kondisi cuaca menjadi lebih menyenangkan untuk bersepeda.\n",
        "\n",
        "  Pada musim gugur, banyak orang mungkin lebih tertarik untuk melakukan aktivitas di luar ruangan, termasuk bersepeda, karena suhu yang lebih sejuk dan cuaca yang stabil. Sebaliknya, musim panas, meskipun memiliki jumlah perental sepeda yang tinggi, mungkin memiliki suhu yang lebih tinggi dan potensi kelembapan yang dapat mempengaruhi tingkat kenyamanan bersepeda.\n",
        "\n",
        "  Kondisi cuaca yang menyenangkan pada musim gugur menjadi faktor utama yang mendorong banyak orang untuk menyewa sepeda, dan pemahaman ini dapat membantu penyedia layanan sepeda untuk mengoptimalkan strategi pemasaran dan penyediaan sepeda selama musim-musim tertentu."
      ]
    }
  ],
  "metadata": {
    "colab": {
      "provenance": []
    },
    "kernelspec": {
      "display_name": "Python 3",
      "language": "python",
      "name": "python3"
    },
    "language_info": {
      "name": "python",
      "version": "3.10.13"
    },
    "orig_nbformat": 4,
    "vscode": {
      "interpreter": {
        "hash": "972b3bf27e332e87b5379f2791f6ef9dfc79c71018c370b0d7423235e20fe4d7"
      }
    }
  },
  "nbformat": 4,
  "nbformat_minor": 0
}
